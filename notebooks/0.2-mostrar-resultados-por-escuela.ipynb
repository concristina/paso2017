{
 "cells": [
  {
   "cell_type": "code",
   "execution_count": 36,
   "metadata": {},
   "outputs": [],
   "source": [
    "import pandas as pd\n",
    "import seaborn as sns \n",
    "%matplotlib inline"
   ]
  },
  {
   "cell_type": "code",
   "execution_count": 2,
   "metadata": {
    "collapsed": true
   },
   "outputs": [],
   "source": [
    "carta_marina = pd.read_csv('../data/raw/escuelas-elecciones-2015-cordoba-CLEAN.csv')\n",
    "resultados_elecciones = pd.read_csv('../data/processed/resultados-secciones-2015.csv')"
   ]
  },
  {
   "cell_type": "code",
   "execution_count": 3,
   "metadata": {},
   "outputs": [
    {
     "data": {
      "text/plain": [
       "Index(['Unnamed: 0', 'nombre_circuito', 'numero_mesa', 'votos_fpv',\n",
       "       'votos_cambiemos', 'votos_blancos', 'votos_nulos', 'votos_recurridos',\n",
       "       'total'],\n",
       "      dtype='object')"
      ]
     },
     "execution_count": 3,
     "metadata": {},
     "output_type": "execute_result"
    }
   ],
   "source": [
    "resultados_elecciones.columns"
   ]
  },
  {
   "cell_type": "code",
   "execution_count": 4,
   "metadata": {},
   "outputs": [
    {
     "data": {
      "text/html": [
       "<div>\n",
       "<style>\n",
       "    .dataframe thead tr:only-child th {\n",
       "        text-align: right;\n",
       "    }\n",
       "\n",
       "    .dataframe thead th {\n",
       "        text-align: left;\n",
       "    }\n",
       "\n",
       "    .dataframe tbody tr th {\n",
       "        vertical-align: top;\n",
       "    }\n",
       "</style>\n",
       "<table border=\"1\" class=\"dataframe\">\n",
       "  <thead>\n",
       "    <tr style=\"text-align: right;\">\n",
       "      <th></th>\n",
       "      <th></th>\n",
       "      <th></th>\n",
       "      <th>votos_fpv</th>\n",
       "      <th>votos_cambiemos</th>\n",
       "      <th>votos_blancos</th>\n",
       "      <th>votos_nulos</th>\n",
       "      <th>votos_recurridos</th>\n",
       "      <th>total</th>\n",
       "    </tr>\n",
       "    <tr>\n",
       "      <th>seccion_nro</th>\n",
       "      <th>circuito_nro</th>\n",
       "      <th>escuela</th>\n",
       "      <th></th>\n",
       "      <th></th>\n",
       "      <th></th>\n",
       "      <th></th>\n",
       "      <th></th>\n",
       "      <th></th>\n",
       "    </tr>\n",
       "  </thead>\n",
       "  <tbody>\n",
       "    <tr>\n",
       "      <th rowspan=\"5\" valign=\"top\">1</th>\n",
       "      <th rowspan=\"4\" valign=\"top\">1</th>\n",
       "      <th>CENTRO EDUC.NIVEL MEDIO ADULTO</th>\n",
       "      <td>613337</td>\n",
       "      <td>1539080</td>\n",
       "      <td>23026</td>\n",
       "      <td>32321</td>\n",
       "      <td>650</td>\n",
       "      <td>2208414</td>\n",
       "    </tr>\n",
       "    <tr>\n",
       "      <th>COL NAC DE MONSERRAT</th>\n",
       "      <td>611703</td>\n",
       "      <td>1533619</td>\n",
       "      <td>22901</td>\n",
       "      <td>32242</td>\n",
       "      <td>647</td>\n",
       "      <td>2201112</td>\n",
       "    </tr>\n",
       "    <tr>\n",
       "      <th>ESC NUESTRA SEÑORA DEL HUERTO</th>\n",
       "      <td>612661</td>\n",
       "      <td>1536831</td>\n",
       "      <td>22977</td>\n",
       "      <td>32287</td>\n",
       "      <td>648</td>\n",
       "      <td>2205404</td>\n",
       "    </tr>\n",
       "    <tr>\n",
       "      <th>ESC SANTA TERESA DE JESUS</th>\n",
       "      <td>611164</td>\n",
       "      <td>1531712</td>\n",
       "      <td>22866</td>\n",
       "      <td>32217</td>\n",
       "      <td>647</td>\n",
       "      <td>2198606</td>\n",
       "    </tr>\n",
       "    <tr>\n",
       "      <th>10</th>\n",
       "      <th>E.N.E.T. N°1 DR A SABATTINI</th>\n",
       "      <td>535086</td>\n",
       "      <td>1305645</td>\n",
       "      <td>19223</td>\n",
       "      <td>27397</td>\n",
       "      <td>507</td>\n",
       "      <td>1887858</td>\n",
       "    </tr>\n",
       "  </tbody>\n",
       "</table>\n",
       "</div>"
      ],
      "text/plain": [
       "                                                         votos_fpv  \\\n",
       "seccion_nro circuito_nro escuela                                     \n",
       "1           1            CENTRO EDUC.NIVEL MEDIO ADULTO     613337   \n",
       "                         COL NAC DE MONSERRAT               611703   \n",
       "                         ESC NUESTRA SEÑORA DEL HUERTO      612661   \n",
       "                         ESC SANTA TERESA DE JESUS          611164   \n",
       "            10           E.N.E.T. N°1 DR A SABATTINI        535086   \n",
       "\n",
       "                                                         votos_cambiemos  \\\n",
       "seccion_nro circuito_nro escuela                                           \n",
       "1           1            CENTRO EDUC.NIVEL MEDIO ADULTO          1539080   \n",
       "                         COL NAC DE MONSERRAT                    1533619   \n",
       "                         ESC NUESTRA SEÑORA DEL HUERTO           1536831   \n",
       "                         ESC SANTA TERESA DE JESUS               1531712   \n",
       "            10           E.N.E.T. N°1 DR A SABATTINI             1305645   \n",
       "\n",
       "                                                         votos_blancos  \\\n",
       "seccion_nro circuito_nro escuela                                         \n",
       "1           1            CENTRO EDUC.NIVEL MEDIO ADULTO          23026   \n",
       "                         COL NAC DE MONSERRAT                    22901   \n",
       "                         ESC NUESTRA SEÑORA DEL HUERTO           22977   \n",
       "                         ESC SANTA TERESA DE JESUS               22866   \n",
       "            10           E.N.E.T. N°1 DR A SABATTINI             19223   \n",
       "\n",
       "                                                         votos_nulos  \\\n",
       "seccion_nro circuito_nro escuela                                       \n",
       "1           1            CENTRO EDUC.NIVEL MEDIO ADULTO        32321   \n",
       "                         COL NAC DE MONSERRAT                  32242   \n",
       "                         ESC NUESTRA SEÑORA DEL HUERTO         32287   \n",
       "                         ESC SANTA TERESA DE JESUS             32217   \n",
       "            10           E.N.E.T. N°1 DR A SABATTINI           27397   \n",
       "\n",
       "                                                         votos_recurridos  \\\n",
       "seccion_nro circuito_nro escuela                                            \n",
       "1           1            CENTRO EDUC.NIVEL MEDIO ADULTO               650   \n",
       "                         COL NAC DE MONSERRAT                         647   \n",
       "                         ESC NUESTRA SEÑORA DEL HUERTO                648   \n",
       "                         ESC SANTA TERESA DE JESUS                    647   \n",
       "            10           E.N.E.T. N°1 DR A SABATTINI                  507   \n",
       "\n",
       "                                                           total  \n",
       "seccion_nro circuito_nro escuela                                  \n",
       "1           1            CENTRO EDUC.NIVEL MEDIO ADULTO  2208414  \n",
       "                         COL NAC DE MONSERRAT            2201112  \n",
       "                         ESC NUESTRA SEÑORA DEL HUERTO   2205404  \n",
       "                         ESC SANTA TERESA DE JESUS       2198606  \n",
       "            10           E.N.E.T. N°1 DR A SABATTINI     1887858  "
      ]
     },
     "execution_count": 4,
     "metadata": {},
     "output_type": "execute_result"
    }
   ],
   "source": [
    "def results_by_school(school):\n",
    "    desde, hasta = school[['desde', 'hasta']].values[0]\n",
    "    columns = ['votos_fpv', 'votos_cambiemos', 'votos_blancos', 'votos_nulos', 'votos_recurridos','total']\n",
    "    mask = (resultados_elecciones.numero_mesa>=desde) & (resultados_elecciones.numero_mesa>=hasta)\n",
    "    \n",
    "    return resultados_elecciones[mask][columns].sum()\n",
    "\n",
    "carta_marina.groupby(['seccion_nro', 'circuito_nro', 'escuela']).apply(results_by_school).head()"
   ]
  },
  {
   "cell_type": "code",
   "execution_count": 55,
   "metadata": {},
   "outputs": [
    {
     "data": {
      "text/plain": [
       "<matplotlib.axes._subplots.AxesSubplot at 0x7f488277e048>"
      ]
     },
     "execution_count": 55,
     "metadata": {},
     "output_type": "execute_result"
    },
    {
     "data": {
      "image/png": "[encoded data removed]",
      "text/plain": [
       "<matplotlib.figure.Figure at 0x7f4882316400>"
      ]
     },
     "metadata": {},
     "output_type": "display_data"
    }
   ],
   "source": [
    "subset = carta_marina.groupby(['seccion_nro', 'circuito_nro', 'escuela']).apply(results_by_school)[:10]\n",
    "subset.plot(kind='bar', stacked=True, figsize=(12,8))"
   ]
  },
  {
   "cell_type": "code",
   "execution_count": 50,
   "metadata": {},
   "outputs": [],
   "source": [
    "\n",
    "\n",
    "seccion_nro = 1\n",
    "seccion = carta_marina[carta_marina.seccion_nro == seccion_nro]\n",
    "mask = resultados_elecciones.nombre_circuito.str.lstrip('0').isin(seccion.circuito_nro.str.lstrip('0').drop_duplicates().values)\n",
    "subset = resultados_elecciones[mask][:10]"
   ]
  },
  {
   "cell_type": "code",
   "execution_count": 51,
   "metadata": {},
   "outputs": [
    {
     "data": {
      "text/plain": [
       "<matplotlib.axes._subplots.AxesSubplot at 0x7f4882b22080>"
      ]
     },
     "execution_count": 51,
     "metadata": {},
     "output_type": "execute_result"
    },
    {
     "data": {
      "image/png": "[encoded data removed]",
      "text/plain": [
       "<matplotlib.figure.Figure at 0x7f488346bbe0>"
      ]
     },
     "metadata": {},
     "output_type": "display_data"
    }
   ],
   "source": [
    "subset.plot(x='nombre_circuito', y=['votos_cambiemos', 'votos_fpv'], kind='bar', stacked=True, figsize=(12,8))"
   ]
  },
  {
   "cell_type": "code",
   "execution_count": 19,
   "metadata": {},
   "outputs": [
    {
     "data": {
      "text/html": [
       "<div>\n",
       "<style>\n",
       "    .dataframe thead tr:only-child th {\n",
       "        text-align: right;\n",
       "    }\n",
       "\n",
       "    .dataframe thead th {\n",
       "        text-align: left;\n",
       "    }\n",
       "\n",
       "    .dataframe tbody tr th {\n",
       "        vertical-align: top;\n",
       "    }\n",
       "</style>\n",
       "<table border=\"1\" class=\"dataframe\">\n",
       "  <thead>\n",
       "    <tr style=\"text-align: right;\">\n",
       "      <th></th>\n",
       "      <th>Unnamed: 0</th>\n",
       "      <th>nombre_circuito</th>\n",
       "      <th>numero_mesa</th>\n",
       "      <th>votos_fpv</th>\n",
       "      <th>votos_cambiemos</th>\n",
       "      <th>votos_blancos</th>\n",
       "      <th>votos_nulos</th>\n",
       "      <th>votos_recurridos</th>\n",
       "      <th>total</th>\n",
       "    </tr>\n",
       "  </thead>\n",
       "  <tbody>\n",
       "  </tbody>\n",
       "</table>\n",
       "</div>"
      ],
      "text/plain": [
       "Empty DataFrame\n",
       "Columns: [Unnamed: 0, nombre_circuito, numero_mesa, votos_fpv, votos_cambiemos, votos_blancos, votos_nulos, votos_recurridos, total]\n",
       "Index: []"
      ]
     },
     "execution_count": 19,
     "metadata": {},
     "output_type": "execute_result"
    }
   ],
   "source": []
  },
  {
   "cell_type": "code",
   "execution_count": null,
   "metadata": {
    "collapsed": true
   },
   "outputs": [],
   "source": []
  }
 ],
 "metadata": {
  "kernelspec": {
   "display_name": "Python 3",
   "language": "python",
   "name": "python3"
  },
  "language_info": {
   "codemirror_mode": {
    "name": "ipython",
    "version": 3
   },
   "file_extension": ".py",
   "mimetype": "text/x-python",
   "name": "python",
   "nbconvert_exporter": "python",
   "pygments_lexer": "ipython3",
   "version": "3.5.3"
  }
 },
 "nbformat": 4,
 "nbformat_minor": 2
}
